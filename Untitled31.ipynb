{
 "cells": [
  {
   "cell_type": "markdown",
   "id": "9bd68692",
   "metadata": {},
   "source": [
    "# Predicting Nifty Prices Using Support Vector Machines"
   ]
  },
  {
   "cell_type": "code",
   "execution_count": 1,
   "id": "d1979682",
   "metadata": {},
   "outputs": [],
   "source": [
    "import numpy as np\n",
    "import pandas as pd\n",
    "import matplotlib.pyplot as plt\n",
    "import seaborn as sns\n",
    "import warnings\n",
    "warnings.filterwarnings(\"ignore\")"
   ]
  },
  {
   "cell_type": "code",
   "execution_count": 2,
   "id": "232ba8f0",
   "metadata": {},
   "outputs": [],
   "source": [
    "df=pd.read_csv(\"D:\\\\Datascience\\\\Data Sets\\\\predict.csv\")"
   ]
  },
  {
   "cell_type": "code",
   "execution_count": 3,
   "id": "4bf7e77d",
   "metadata": {},
   "outputs": [
    {
     "data": {
      "text/html": [
       "<div>\n",
       "<style scoped>\n",
       "    .dataframe tbody tr th:only-of-type {\n",
       "        vertical-align: middle;\n",
       "    }\n",
       "\n",
       "    .dataframe tbody tr th {\n",
       "        vertical-align: top;\n",
       "    }\n",
       "\n",
       "    .dataframe thead th {\n",
       "        text-align: right;\n",
       "    }\n",
       "</style>\n",
       "<table border=\"1\" class=\"dataframe\">\n",
       "  <thead>\n",
       "    <tr style=\"text-align: right;\">\n",
       "      <th></th>\n",
       "      <th>Date</th>\n",
       "      <th>Nifty(Close)</th>\n",
       "      <th>Dow Jones (Close)</th>\n",
       "    </tr>\n",
       "  </thead>\n",
       "  <tbody>\n",
       "    <tr>\n",
       "      <th>0</th>\n",
       "      <td>01-Dec-21</td>\n",
       "      <td>17166.90</td>\n",
       "      <td>36231.66</td>\n",
       "    </tr>\n",
       "    <tr>\n",
       "      <th>1</th>\n",
       "      <td>02-Dec-21</td>\n",
       "      <td>17401.65</td>\n",
       "      <td>36236.47</td>\n",
       "    </tr>\n",
       "    <tr>\n",
       "      <th>2</th>\n",
       "      <td>03-Dec-21</td>\n",
       "      <td>17196.70</td>\n",
       "      <td>36407.11</td>\n",
       "    </tr>\n",
       "    <tr>\n",
       "      <th>3</th>\n",
       "      <td>06-Dec-21</td>\n",
       "      <td>16912.25</td>\n",
       "      <td>36799.65</td>\n",
       "    </tr>\n",
       "    <tr>\n",
       "      <th>4</th>\n",
       "      <td>07-Dec-21</td>\n",
       "      <td>17176.70</td>\n",
       "      <td>36585.06</td>\n",
       "    </tr>\n",
       "  </tbody>\n",
       "</table>\n",
       "</div>"
      ],
      "text/plain": [
       "        Date  Nifty(Close)  Dow Jones (Close)\n",
       "0  01-Dec-21      17166.90           36231.66\n",
       "1  02-Dec-21      17401.65           36236.47\n",
       "2  03-Dec-21      17196.70           36407.11\n",
       "3  06-Dec-21      16912.25           36799.65\n",
       "4  07-Dec-21      17176.70           36585.06"
      ]
     },
     "execution_count": 3,
     "metadata": {},
     "output_type": "execute_result"
    }
   ],
   "source": [
    "df.head()"
   ]
  },
  {
   "cell_type": "code",
   "execution_count": 4,
   "id": "8180d842",
   "metadata": {},
   "outputs": [],
   "source": [
    "x=df.iloc[:,2].values\n",
    "y=df.iloc[:,1].values\n",
    "x=np.reshape(x,(-1,1))\n",
    "y=np.reshape(y,(-1,1))"
   ]
  },
  {
   "cell_type": "code",
   "execution_count": 5,
   "id": "ab1b08d0",
   "metadata": {},
   "outputs": [],
   "source": [
    "from sklearn.model_selection import train_test_split\n",
    "xtrain,xtest,ytrain,ytest=train_test_split(x,y,test_size=0.2,random_state=1)"
   ]
  },
  {
   "cell_type": "code",
   "execution_count": 6,
   "id": "443ccc8d",
   "metadata": {},
   "outputs": [],
   "source": [
    "from sklearn.svm import SVR\n",
    "svr=SVR()\n",
    "svr.fit(xtrain,ytrain)\n",
    "ypred=svr.predict(xtest)"
   ]
  },
  {
   "cell_type": "code",
   "execution_count": 7,
   "id": "396c413b",
   "metadata": {},
   "outputs": [
    {
     "data": {
      "text/plain": [
       "array([17287.54521205, 17287.5806175 , 17288.6000544 , 17288.96385144,\n",
       "       17289.07571078, 17288.25010604, 17288.55932238, 17288.89443833,\n",
       "       17288.55992013, 17288.03291652, 17285.26278883, 17285.2670837 ,\n",
       "       17284.07383839, 17283.89693084, 17287.73031727, 17284.42602695,\n",
       "       17284.87900683, 17285.09283004, 17283.79080394, 17283.79066068,\n",
       "       17285.42608689, 17284.07708096, 17284.07732477, 17283.9490138 ,\n",
       "       17285.34031817, 17289.74318092, 17289.52468459, 17289.67238977])"
      ]
     },
     "execution_count": 7,
     "metadata": {},
     "output_type": "execute_result"
    }
   ],
   "source": [
    "svr.predict(x)"
   ]
  },
  {
   "cell_type": "code",
   "execution_count": 8,
   "id": "9001ddcb",
   "metadata": {},
   "outputs": [
    {
     "name": "stdout",
     "output_type": "stream",
     "text": [
      "Accuracy:-0.15792769350182367\n"
     ]
    }
   ],
   "source": [
    "from sklearn.metrics import r2_score\n",
    "print(f\"Accuracy:{r2_score(ytest,ypred)}\")"
   ]
  },
  {
   "cell_type": "code",
   "execution_count": null,
   "id": "0f7cd7e9",
   "metadata": {},
   "outputs": [],
   "source": []
  }
 ],
 "metadata": {
  "kernelspec": {
   "display_name": "Python 3 (ipykernel)",
   "language": "python",
   "name": "python3"
  },
  "language_info": {
   "codemirror_mode": {
    "name": "ipython",
    "version": 3
   },
   "file_extension": ".py",
   "mimetype": "text/x-python",
   "name": "python",
   "nbconvert_exporter": "python",
   "pygments_lexer": "ipython3",
   "version": "3.9.7"
  }
 },
 "nbformat": 4,
 "nbformat_minor": 5
}
